{
 "cells": [
  {
   "cell_type": "code",
   "execution_count": 31,
   "metadata": {},
   "outputs": [
    {
     "name": "stdout",
     "output_type": "stream",
     "text": [
      "Collecting country_converter\n",
      "  Downloading country_converter-0.7.7.tar.gz (51 kB)\n",
      "\u001b[K     |████████████████████████████████| 51 kB 3.0 MB/s eta 0:00:011\n",
      "\u001b[?25hRequirement already satisfied: pandas>=1.0 in /Users/htzzzzzzz/opt/anaconda3/lib/python3.8/site-packages (from country_converter) (1.1.3)\n",
      "Requirement already satisfied: pytz>=2017.2 in /Users/htzzzzzzz/opt/anaconda3/lib/python3.8/site-packages (from pandas>=1.0->country_converter) (2020.1)\n",
      "Requirement already satisfied: python-dateutil>=2.7.3 in /Users/htzzzzzzz/opt/anaconda3/lib/python3.8/site-packages (from pandas>=1.0->country_converter) (2.8.1)\n",
      "Requirement already satisfied: numpy>=1.15.4 in /Users/htzzzzzzz/opt/anaconda3/lib/python3.8/site-packages (from pandas>=1.0->country_converter) (1.19.2)\n",
      "Requirement already satisfied: six>=1.5 in /Users/htzzzzzzz/opt/anaconda3/lib/python3.8/site-packages (from python-dateutil>=2.7.3->pandas>=1.0->country_converter) (1.15.0)\n",
      "Building wheels for collected packages: country-converter\n",
      "  Building wheel for country-converter (setup.py) ... \u001b[?25ldone\n",
      "\u001b[?25h  Created wheel for country-converter: filename=country_converter-0.7.7-py3-none-any.whl size=53773 sha256=07e76d885a707da7ae13e383e92c9a6d68ecf8a02496c616250642ffe41a74e4\n",
      "  Stored in directory: /Users/htzzzzzzz/Library/Caches/pip/wheels/c3/b7/67/e85efb4c7bf65b2f7755a9d514d899f4f5db4f8e502c5a3378\n",
      "Successfully built country-converter\n",
      "Installing collected packages: country-converter\n",
      "Successfully installed country-converter-0.7.7\n",
      "Note: you may need to restart the kernel to use updated packages.\n"
     ]
    }
   ],
   "source": [
    "%pip install country_converter"
   ]
  },
  {
   "cell_type": "code",
   "execution_count": 2,
   "metadata": {},
   "outputs": [],
   "source": [
    "from pyspark.sql.session import SparkSession\n",
    "from pyspark.sql.functions import *\n",
    "from pyspark.sql import Row\n",
    "import sys"
   ]
  },
  {
   "cell_type": "code",
   "execution_count": 3,
   "metadata": {},
   "outputs": [],
   "source": [
    "# sc = spark.sparkContext\n",
    "spark = SparkSession.builder.getOrCreate()\n",
    "# datadir = \"/opt/lsde/dataset-sf100-csvs/\"\n",
    "path = \"/Users/htzzzzzzz/Desktop/studying/LSDE/Assignment 2/split_urls/231.csv\"\n",
    "country_rough_urls_path =\"/Users/htzzzzzzz/Desktop/studying/LSDE/country_rough_urls\""
   ]
  },
  {
   "cell_type": "code",
   "execution_count": 4,
   "metadata": {},
   "outputs": [
    {
     "name": "stdout",
     "output_type": "stream",
     "text": [
      "+--------------------+--------------------+---------+-------+\n",
      "|                 url|                path|continent|country|\n",
      "+--------------------+--------------------+---------+-------+\n",
      "|http://farm8.stat...|448/222/4482224dc...|     Asia|     VN|\n",
      "|http://farm6.stat...|386/73a/38673ab30...|     Asia|     VN|\n",
      "|http://farm6.stat...|285/28e/28528e356...|     Asia|     VN|\n",
      "|http://farm4.stat...|a4e/b43/a4eb436e6...|     Asia|     VN|\n",
      "|http://farm6.stat...|7cc/7f5/7cc7f54ee...|     Asia|     VN|\n",
      "|http://farm1.stat...|57e/c40/57ec4066e...|     Asia|     VN|\n",
      "|http://farm4.stat...|e4a/f79/e4af79f08...|     Asia|     VN|\n",
      "|http://farm7.stat...|f1f/fd3/f1ffd3466...|     Asia|     VN|\n",
      "|http://farm3.stat...|f4d/82e/f4d82e547...|     Asia|     VN|\n",
      "|http://farm8.stat...|1b6/080/1b6080871...|     Asia|     VN|\n",
      "|http://farm3.stat...|224/9ba/2249ba4b1...|     Asia|     VN|\n",
      "|http://farm4.stat...|7da/13b/7da13bb1f...|     Asia|     VN|\n",
      "|http://farm4.stat...|45a/b91/45ab9174b...|     Asia|     VN|\n",
      "|http://farm4.stat...|c29/39a/c2939afdf...|     Asia|     VN|\n",
      "|http://farm1.stat...|b25/3ea/b253ea445...|     Asia|     VN|\n",
      "|http://farm9.stat...|bc5/ec8/bc5ec892f...|     Asia|     VN|\n",
      "|http://farm4.stat...|349/fb9/349fb9e34...|     Asia|     VN|\n",
      "|http://farm7.stat...|5f1/b4d/5f1b4d44e...|     Asia|     VN|\n",
      "|http://farm9.stat...|61c/f6b/61cf6bea4...|     Asia|     VN|\n",
      "|http://farm8.stat...|f6f/b61/f6fb61613...|     Asia|     VN|\n",
      "+--------------------+--------------------+---------+-------+\n",
      "only showing top 20 rows\n",
      "\n"
     ]
    }
   ],
   "source": [
    "df = spark.read.option(\"header\", True).csv(path)\n",
    "df.show()"
   ]
  },
  {
   "cell_type": "code",
   "execution_count": 18,
   "metadata": {},
   "outputs": [
    {
     "name": "stdout",
     "output_type": "stream",
     "text": [
      "<class 'pyspark.sql.dataframe.DataFrame'>\n"
     ]
    }
   ],
   "source": [
    "print(type(df))"
   ]
  },
  {
   "cell_type": "code",
   "execution_count": 6,
   "metadata": {},
   "outputs": [],
   "source": [
    "total = df.count()"
   ]
  },
  {
   "cell_type": "code",
   "execution_count": 7,
   "metadata": {},
   "outputs": [
    {
     "name": "stdout",
     "output_type": "stream",
     "text": [
      "102649\n"
     ]
    }
   ],
   "source": [
    "print(total)"
   ]
  },
  {
   "cell_type": "code",
   "execution_count": 5,
   "metadata": {},
   "outputs": [
    {
     "name": "stdout",
     "output_type": "stream",
     "text": [
      "+-------+-----+\n",
      "|country|count|\n",
      "+-------+-----+\n",
      "|     MM|  500|\n",
      "|     LT|  500|\n",
      "|     FI|  500|\n",
      "|     UA|  500|\n",
      "|     RO|  500|\n",
      "|     NL|  500|\n",
      "|     LA|  500|\n",
      "|     PL|  500|\n",
      "|     PS|  500|\n",
      "|     CN|  500|\n",
      "|     AT|  500|\n",
      "|     RU|  500|\n",
      "|     NA|  500|\n",
      "|     HR|  500|\n",
      "|     CZ|  500|\n",
      "|     NP| 1000|\n",
      "|     PT|  500|\n",
      "|     HK|  500|\n",
      "|     TW|  500|\n",
      "|     CL|  500|\n",
      "+-------+-----+\n",
      "only showing top 20 rows\n",
      "\n"
     ]
    }
   ],
   "source": [
    "country_count = df.groupBy(\"country\").count()\n",
    "country_count.show()"
   ]
  },
  {
   "cell_type": "code",
   "execution_count": 113,
   "metadata": {},
   "outputs": [
    {
     "name": "stdout",
     "output_type": "stream",
     "text": [
      "231\n",
      "['MM', 'LT', 'FI', 'UA', 'RO', 'NL', 'LA', 'PL', 'PS', 'CN', 'AT', 'RU', 'NA', 'HR', 'CZ', 'NP', 'PT', 'HK', 'TW', 'CL', 'ID', 'AU', 'CA', 'GB', 'BR', 'HN', 'GT', 'DE', 'IR', 'ES', 'EC', 'TR', 'ZA', 'CR', 'KR', 'RS', 'US', 'MY', 'IN', 'AE', 'FR', 'CH', 'TN', 'GR', 'SD', 'IT', 'CU', 'SE', 'BG', 'SK', 'PE', 'QA', 'TH', 'EG', 'JP', 'NZ', 'LK', 'HU', 'IE', 'KW', 'MA', 'BE', 'KH', 'NO', 'BO', 'CO', 'IM', 'UY', 'AR', 'LU', 'VN', 'BB', 'DK', 'DZ', 'AZ', 'SL', 'BW', 'BS', 'MN', 'AM', 'RE', 'MK', 'MX', 'PF', 'EE', 'VG', 'SV', 'GH', 'BD', 'PK', 'SA', 'BM', 'MW', 'UZ', 'MT', 'KZ', 'BY', 'VI', 'IL', 'VE', 'ME', 'SX', 'TZ', 'AL', 'JM', 'CM', 'GF', 'MG', 'BA', 'JO', 'ET', 'SG', 'KP', 'MV', 'FO', 'PH', 'GE', 'LV', 'MU', 'MZ', 'DO', 'BZ', 'GY', 'SN', 'OM', 'KE', 'CY', 'SI', 'GP', 'HT', 'UG', 'VU', 'NI', 'KG', 'TT', 'SY', 'NG', 'JE', 'PR', 'AF', 'BQ', 'CD', 'AO', 'AX', 'TC', 'CI', 'SC', 'PM', 'ZM', 'KI', 'SB', 'GL', 'TV', 'IQ', 'SJ', 'CG', 'SO', 'PG', 'CX', 'KY', 'CV', 'BN', 'LR', 'PY', 'LB', 'TO', 'LY', 'FK', 'NE', 'YE', 'NC', 'MD', 'GN', 'AW', 'NR', 'MR', 'GU', 'AQ', 'MS', 'PN', 'CK', 'LC', 'MQ', 'TG', 'RW', 'CC', 'GQ', 'NU', 'WF', 'TL', 'PA', 'TD', 'AG', 'DJ', 'BF', 'GW', 'FJ', 'WS', 'CW', 'FM', 'MH', 'LS', 'GD', 'KM', 'DM', 'XK', 'SH', 'BI', 'BJ', 'TM', 'VC', 'ZW', 'BT', 'KN', 'ML', 'GS', 'GA', 'AS', 'ER', 'SS', 'TF', 'CF', 'PW', 'TK', 'SZ', 'NF', 'EH', 'MP', 'SR', 'TJ', 'ST']\n"
     ]
    }
   ],
   "source": [
    "country_number = country_count.count()\n",
    "country_names = country_count.head(country_number)\n",
    "name_list = []\n",
    "for i in range(country_number):\n",
    "    name_list.append(country_names[i]['country'])\n",
    "    \n",
    "print(len(name_list))\n",
    "print(name_list)"
   ]
  },
  {
   "cell_type": "code",
   "execution_count": 114,
   "metadata": {},
   "outputs": [
    {
     "name": "stdout",
     "output_type": "stream",
     "text": [
      "['Asia', 'Europe', 'Europe', 'Europe', 'Europe', 'Europe', 'Asia', 'Europe', 'Asia', 'Asia', 'Europe', 'Europe', 'Africa', 'Europe', 'Europe', 'Asia', 'Europe', 'Asia', 'Asia', 'America', 'Asia', 'Oceania', 'America', 'Europe', 'America', 'America', 'America', 'Europe', 'Asia', 'Europe', 'America', 'Asia', 'Africa', 'America', 'Asia', 'Europe', 'America', 'Asia', 'Asia', 'Asia', 'Europe', 'Europe', 'Africa', 'Europe', 'Africa', 'Europe', 'America', 'Europe', 'Europe', 'Europe', 'America', 'Asia', 'Asia', 'Africa', 'Asia', 'Oceania', 'Asia', 'Europe', 'Europe', 'Asia', 'Africa', 'Europe', 'Asia', 'Europe', 'America', 'America', 'Europe', 'America', 'America', 'Europe', 'Asia', 'America', 'Europe', 'Africa', 'Asia', 'Africa', 'Africa', 'America', 'Asia', 'Asia', 'Africa', 'Europe', 'America', 'Oceania', 'Europe', 'America', 'America', 'Africa', 'Asia', 'Asia', 'Asia', 'America', 'Africa', 'Asia', 'Europe', 'Asia', 'Europe', 'America', 'Asia', 'America', 'Europe', 'America', 'Africa', 'Europe', 'America', 'Africa', 'America', 'Africa', 'Europe', 'Asia', 'Africa', 'Asia', 'Asia', 'Asia', 'Europe', 'Asia', 'Asia', 'Europe', 'Africa', 'Africa', 'America', 'America', 'America', 'Africa', 'Asia', 'Africa', 'Asia', 'Europe', 'America', 'America', 'Africa', 'Oceania', 'America', 'Asia', 'America', 'Asia', 'Africa', 'Europe', 'America', 'Asia', 'America', 'Africa', 'Africa', 'Europe', 'America', 'Africa', 'Africa', 'America', 'Africa', 'Oceania', 'Oceania', 'America', 'Oceania', 'Asia', 'Europe', 'Africa', 'Africa', 'Oceania', 'Asia', 'America', 'Africa', 'Asia', 'Africa', 'America', 'Asia', 'Oceania', 'Africa', 'America', 'Africa', 'Asia', 'Oceania', 'Europe', 'Africa', 'America', 'Oceania', 'Africa', 'Oceania', 'Antarctica', 'America', 'Oceania', 'Oceania', 'America', 'America', 'Africa', 'Africa', 'Asia', 'Africa', 'Oceania', 'Oceania', 'Asia', 'America', 'Africa', 'America', 'Africa', 'Africa', 'Africa', 'Oceania', 'Oceania', 'America', 'Oceania', 'Oceania', 'Africa', 'America', 'Africa', 'America', 'Europe', 'Africa', 'Africa', 'Africa', 'Asia', 'America', 'Africa', 'Asia', 'America', 'Africa', 'Antarctica', 'Africa', 'Oceania', 'Africa', 'Africa', 'Africa', 'Africa', 'Oceania', 'Oceania', 'Africa', 'Oceania', 'Africa', 'Oceania', 'America', 'Asia', 'Africa']\n",
      "['Myanmar', 'Lithuania', 'Finland', 'Ukraine', 'Romania', 'Netherlands', 'Laos', 'Poland', 'Palestine', 'China', 'Austria', 'Russia', 'Namibia', 'Croatia', 'Czech Republic', 'Nepal', 'Portugal', 'Hong Kong', 'Taiwan', 'Chile', 'Indonesia', 'Australia', 'Canada', 'United Kingdom', 'Brazil', 'Honduras', 'Guatemala', 'Germany', 'Iran', 'Spain', 'Ecuador', 'Turkey', 'South Africa', 'Costa Rica', 'South Korea', 'Serbia', 'United States', 'Malaysia', 'India', 'United Arab Emirates', 'France', 'Switzerland', 'Tunisia', 'Greece', 'Sudan', 'Italy', 'Cuba', 'Sweden', 'Bulgaria', 'Slovakia', 'Peru', 'Qatar', 'Thailand', 'Egypt', 'Japan', 'New Zealand', 'Sri Lanka', 'Hungary', 'Ireland', 'Kuwait', 'Morocco', 'Belgium', 'Cambodia', 'Norway', 'Bolivia', 'Colombia', 'Isle of Man', 'Uruguay', 'Argentina', 'Luxembourg', 'Vietnam', 'Barbados', 'Denmark', 'Algeria', 'Azerbaijan', 'Sierra Leone', 'Botswana', 'Bahamas', 'Mongolia', 'Armenia', 'Reunion', 'North Macedonia', 'Mexico', 'French Polynesia', 'Estonia', 'British Virgin Islands', 'El Salvador', 'Ghana', 'Bangladesh', 'Pakistan', 'Saudi Arabia', 'Bermuda', 'Malawi', 'Uzbekistan', 'Malta', 'Kazakhstan', 'Belarus', 'United States Virgin Islands', 'Israel', 'Venezuela', 'Montenegro', 'Sint Maarten', 'Tanzania', 'Albania', 'Jamaica', 'Cameroon', 'French Guiana', 'Madagascar', 'Bosnia and Herzegovina', 'Jordan', 'Ethiopia', 'Singapore', 'North Korea', 'Maldives', 'Faeroe Islands', 'Philippines', 'Georgia', 'Latvia', 'Mauritius', 'Mozambique', 'Dominican Republic', 'Belize', 'Guyana', 'Senegal', 'Oman', 'Kenya', 'Cyprus', 'Slovenia', 'Guadeloupe', 'Haiti', 'Uganda', 'Vanuatu', 'Nicaragua', 'Kyrgyz Republic', 'Trinidad and Tobago', 'Syria', 'Nigeria', 'Jersey', 'Puerto Rico', 'Afghanistan', 'Bonaire, Saint Eustatius and Saba', 'DR Congo', 'Angola', 'Aland Islands', 'Turks and Caicos Islands', \"Cote d'Ivoire\", 'Seychelles', 'St. Pierre and Miquelon', 'Zambia', 'Kiribati', 'Solomon Islands', 'Greenland', 'Tuvalu', 'Iraq', 'Svalbard and Jan Mayen Islands', 'Congo Republic', 'Somalia', 'Papua New Guinea', 'Christmas Island', 'Cayman Islands', 'Cabo Verde', 'Brunei Darussalam', 'Liberia', 'Paraguay', 'Lebanon', 'Tonga', 'Libya', 'Falkland Islands', 'Niger', 'Yemen', 'New Caledonia', 'Moldova', 'Guinea', 'Aruba', 'Nauru', 'Mauritania', 'Guam', 'Antarctica', 'Montserrat', 'Pitcairn', 'Cook Islands', 'St. Lucia', 'Martinique', 'Togo', 'Rwanda', 'Cocos (Keeling) Islands', 'Equatorial Guinea', 'Niue', 'Wallis and Futuna Islands', 'Timor-Leste', 'Panama', 'Chad', 'Antigua and Barbuda', 'Djibouti', 'Burkina Faso', 'Guinea-Bissau', 'Fiji', 'Samoa', 'Curacao', 'Micronesia, Fed. Sts.', 'Marshall Islands', 'Lesotho', 'Grenada', 'Comoros', 'Dominica', 'Kosovo', 'St. Helena', 'Burundi', 'Benin', 'Turkmenistan', 'St. Vincent and the Grenadines', 'Zimbabwe', 'Bhutan', 'St. Kitts and Nevis', 'Mali', 'South Georgia and South Sandwich Is.', 'Gabon', 'American Samoa', 'Eritrea', 'South Sudan', 'French Southern Territories', 'Central African Republic', 'Palau', 'Tokelau', 'Eswatini', 'Norfolk Island', 'Western Sahara', 'Northern Mariana Islands', 'Suriname', 'Tajikistan', 'Sao Tome and Principe']\n"
     ]
    }
   ],
   "source": [
    "import country_converter as coco\n",
    "continent_list = coco.convert(names=name_list, src ='ISO2',to='continent')\n",
    "short_name_list = coco.convert(names=name_list, src ='ISO2',to='name_short')\n",
    "print(continent_list)\n",
    "print(short_name_list)"
   ]
  },
  {
   "cell_type": "code",
   "execution_count": 115,
   "metadata": {},
   "outputs": [
    {
     "name": "stdout",
     "output_type": "stream",
     "text": [
      "500\n",
      "500\n",
      "500\n",
      "500\n",
      "500\n",
      "500\n",
      "500\n",
      "500\n",
      "500\n",
      "500\n",
      "500\n",
      "500\n",
      "500\n",
      "500\n",
      "500\n",
      "1000\n",
      "500\n",
      "500\n",
      "500\n",
      "500\n",
      "500\n",
      "500\n",
      "500\n",
      "500\n",
      "500\n",
      "500\n",
      "500\n",
      "500\n",
      "500\n",
      "500\n",
      "500\n",
      "500\n",
      "500\n",
      "500\n",
      "500\n",
      "500\n",
      "500\n",
      "500\n",
      "500\n",
      "500\n",
      "500\n",
      "500\n",
      "500\n",
      "500\n",
      "500\n",
      "500\n",
      "500\n",
      "500\n",
      "500\n",
      "500\n",
      "500\n",
      "500\n",
      "500\n",
      "500\n",
      "500\n",
      "500\n",
      "500\n",
      "500\n",
      "500\n",
      "500\n",
      "500\n",
      "500\n",
      "500\n",
      "500\n",
      "500\n",
      "500\n",
      "500\n",
      "500\n",
      "500\n",
      "500\n",
      "500\n",
      "500\n",
      "500\n",
      "500\n",
      "500\n",
      "500\n",
      "500\n",
      "500\n",
      "500\n",
      "500\n",
      "500\n",
      "500\n",
      "500\n",
      "500\n",
      "500\n",
      "500\n",
      "500\n",
      "500\n",
      "500\n",
      "500\n",
      "500\n",
      "500\n",
      "500\n",
      "500\n",
      "500\n",
      "500\n",
      "500\n",
      "500\n",
      "500\n",
      "500\n",
      "500\n",
      "500\n",
      "500\n",
      "500\n",
      "500\n",
      "500\n",
      "500\n",
      "500\n",
      "500\n",
      "500\n",
      "500\n",
      "500\n",
      "500\n",
      "500\n",
      "500\n",
      "500\n",
      "500\n",
      "500\n",
      "500\n",
      "500\n",
      "500\n",
      "500\n",
      "500\n",
      "500\n",
      "500\n",
      "500\n",
      "500\n",
      "500\n",
      "500\n",
      "500\n",
      "500\n",
      "500\n",
      "1000\n",
      "500\n",
      "1000\n",
      "500\n",
      "500\n",
      "500\n",
      "500\n",
      "500\n",
      "500\n",
      "500\n",
      "500\n",
      "500\n",
      "500\n",
      "500\n",
      "500\n",
      "68\n",
      "500\n",
      "11\n",
      "460\n",
      "500\n",
      "8\n",
      "500\n",
      "500\n",
      "500\n",
      "475\n",
      "500\n",
      "61\n",
      "500\n",
      "500\n",
      "500\n",
      "500\n",
      "500\n",
      "500\n",
      "403\n",
      "500\n",
      "500\n",
      "296\n",
      "500\n",
      "500\n",
      "55\n",
      "156\n",
      "15\n",
      "27\n",
      "404\n",
      "500\n",
      "373\n",
      "22\n",
      "40\n",
      "385\n",
      "500\n",
      "500\n",
      "330\n",
      "188\n",
      "4\n",
      "369\n",
      "5\n",
      "195\n",
      "83\n",
      "500\n",
      "178\n",
      "500\n",
      "90\n",
      "500\n",
      "241\n",
      "500\n",
      "500\n",
      "500\n",
      "188\n",
      "50\n",
      "355\n",
      "500\n",
      "269\n",
      "33\n",
      "431\n",
      "329\n",
      "251\n",
      "500\n",
      "500\n",
      "500\n",
      "500\n",
      "500\n",
      "217\n",
      "500\n",
      "419\n",
      "443\n",
      "310\n",
      "205\n",
      "340\n",
      "77\n",
      "500\n",
      "500\n",
      "4\n",
      "500\n",
      "57\n",
      "105\n",
      "281\n",
      "379\n",
      "252\n",
      "212\n"
     ]
    }
   ],
   "source": [
    "for i in range(country_number):\n",
    "# for i in range(32,41):    \n",
    "    short_name = short_name_list[i]\n",
    "    country_name = name_list[i]\n",
    "    continent_name = continent_list[i]\n",
    "    a_country_urls = df.filter(df[3]==country_name)\n",
    "#     a_country_urls.show()\n",
    "    url_number = a_country_urls.count()\n",
    "    url_lists = a_country_urls.head(url_number)\n",
    "    \n",
    "    url_list = []\n",
    "    for i in range(url_number):\n",
    "        url_list.append(url_lists[i]['url'])\n",
    "#     print(country_name)\n",
    "    print(len(url_list))\n",
    "#     print(url_list)\n",
    "    f1= open(country_rough_urls_path+'/'+country_name+'-'+short_name+'-'+continent_name+'.txt','w')\n",
    "    f1.write(str(url_list))\n",
    "    f1.close()"
   ]
  },
  {
   "cell_type": "code",
   "execution_count": 56,
   "metadata": {},
   "outputs": [],
   "source": []
  },
  {
   "cell_type": "code",
   "execution_count": null,
   "metadata": {},
   "outputs": [],
   "source": []
  }
 ],
 "metadata": {
  "kernelspec": {
   "display_name": "Python 3",
   "language": "python",
   "name": "python3"
  },
  "language_info": {
   "codemirror_mode": {
    "name": "ipython",
    "version": 3
   },
   "file_extension": ".py",
   "mimetype": "text/x-python",
   "name": "python",
   "nbconvert_exporter": "python",
   "pygments_lexer": "ipython3",
   "version": "3.8.5"
  }
 },
 "nbformat": 4,
 "nbformat_minor": 4
}
